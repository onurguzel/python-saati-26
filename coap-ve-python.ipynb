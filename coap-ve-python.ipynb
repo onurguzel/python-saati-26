{
 "cells": [
  {
   "cell_type": "markdown",
   "metadata": {
    "slideshow": {
     "slide_type": "slide"
    }
   },
   "source": [
    "# CoAP ve Python"
   ]
  },
  {
   "cell_type": "markdown",
   "metadata": {},
   "source": [
    "Onur Güzel  \n",
    "Artistanbul  \n",
    "\n",
    "---\n",
    "\n",
    "Python Saati #26  \n",
    "10 Ekim 2017, Hipo, İstanbul"
   ]
  },
  {
   "cell_type": "markdown",
   "metadata": {
    "slideshow": {
     "slide_type": "slide"
    }
   },
   "source": [
    "## Ne Anlatacağım?"
   ]
  },
  {
   "cell_type": "markdown",
   "metadata": {
    "slideshow": {
     "slide_type": "fragment"
    }
   },
   "source": [
    "- CoAP Nedir? (Yenir mi?)"
   ]
  },
  {
   "cell_type": "markdown",
   "metadata": {
    "slideshow": {
     "slide_type": "fragment"
    }
   },
   "source": [
    "- Python ile CoAP"
   ]
  },
  {
   "cell_type": "markdown",
   "metadata": {
    "slideshow": {
     "slide_type": "fragment"
    }
   },
   "source": [
    "- IKEA? 🤔"
   ]
  },
  {
   "cell_type": "markdown",
   "metadata": {
    "slideshow": {
     "slide_type": "slide"
    }
   },
   "source": [
    "## CoAP Nedir?"
   ]
  },
  {
   "cell_type": "markdown",
   "metadata": {
    "slideshow": {
     "slide_type": "fragment"
    }
   },
   "source": [
    "- \"Constrained Application Protocol\"  \n",
    "Bir IETF CoRE grubu standardı (RFC 7252)"
   ]
  },
  {
   "cell_type": "markdown",
   "metadata": {
    "slideshow": {
     "slide_type": "fragment"
    }
   },
   "source": [
    "- IoT için REST: GET, POST, PUT, DELETE"
   ]
  },
  {
   "cell_type": "markdown",
   "metadata": {
    "slideshow": {
     "slide_type": "fragment"
    }
   },
   "source": [
    "- HTTP Proxy  \n",
    "http<i></i>://example.com/hc/**coap://c.example.com/obj**"
   ]
  },
  {
   "cell_type": "markdown",
   "metadata": {
    "slideshow": {
     "slide_type": "fragment"
    }
   },
   "source": [
    "- UDP ve DTLS"
   ]
  },
  {
   "cell_type": "markdown",
   "metadata": {
    "slideshow": {
     "slide_type": "slide"
    }
   },
   "source": [
    "## CoAP ve yardımcı standartlar"
   ]
  },
  {
   "cell_type": "markdown",
   "metadata": {
    "slideshow": {
     "slide_type": "fragment"
    }
   },
   "source": [
    "- OMA Lightweight M2M: [openmobilealliance.org](http://openmobilealliance.org/iot/lightweight-m2m-lwm2m)"
   ]
  },
  {
   "cell_type": "markdown",
   "metadata": {
    "slideshow": {
     "slide_type": "fragment"
    }
   },
   "source": [
    "- Anahtar kelime: Birlikte çalıştırılabilirlik"
   ]
  },
  {
   "cell_type": "markdown",
   "metadata": {
    "slideshow": {
     "slide_type": "fragment"
    }
   },
   "source": [
    "- IPSO Smart Objects: [ipso-alliance.github.io/pub](https://ipso-alliance.github.io/pub/)"
   ]
  },
  {
   "cell_type": "markdown",
   "metadata": {
    "slideshow": {
     "slide_type": "slide"
    }
   },
   "source": [
    "## Python ile CoAP"
   ]
  },
  {
   "cell_type": "markdown",
   "metadata": {
    "slideshow": {
     "slide_type": "fragment"
    }
   },
   "source": [
    "- CoAPthon: [github.com/Tanganelli/CoAPthon](https://github.com/Tanganelli/CoAPthon)\n",
    "\n",
    " `pip install CoAPthon`"
   ]
  },
  {
   "cell_type": "markdown",
   "metadata": {
    "slideshow": {
     "slide_type": "fragment"
    }
   },
   "source": [
    "- aiocoap: [github.com/chrysn/aiocoap](https://github.com/chrysn/aiocoap)\n",
    "\n",
    " `pip install aiocoap`"
   ]
  },
  {
   "cell_type": "markdown",
   "metadata": {
    "slideshow": {
     "slide_type": "slide"
    }
   },
   "source": [
    "# CoAPthon (Python 2.7 😒)"
   ]
  },
  {
   "cell_type": "markdown",
   "metadata": {
    "slideshow": {
     "slide_type": "fragment"
    }
   },
   "source": [
    "```\n",
    "from coapthon.client.helperclient import HelperClient\n",
    "\n",
    "client = HelperClient(server=(\"192.168.1.30\", 5683))\n",
    "response = client.get(\"/.well-known/core\")\n",
    "print(response.pretty_print())\n",
    "client.stop()\n",
    "```"
   ]
  },
  {
   "cell_type": "markdown",
   "metadata": {
    "slideshow": {
     "slide_type": "notes"
    }
   },
   "source": [
    "☝️ Yukarıdaki kod bloğu, CoAPthon modülü Python 3 desteklemediği için Markdown olarak yazıldı."
   ]
  },
  {
   "cell_type": "markdown",
   "metadata": {
    "slideshow": {
     "slide_type": "slide"
    }
   },
   "source": [
    "# aiocoap"
   ]
  },
  {
   "cell_type": "code",
   "execution_count": null,
   "metadata": {
    "slideshow": {
     "slide_type": "fragment"
    }
   },
   "outputs": [],
   "source": [
    "import asyncio\n",
    "import credentials\n",
    "from aiocoap.transports import tinydtls\n",
    "\n",
    "class MyDTLSSecurityStore:\n",
    "    SECRET_PSK = credentials.security_code.encode('utf-8')\n",
    "    def _get_psk(self, host, port):\n",
    "        return b\"Client_identity\", MyDTLSSecurityStore.SECRET_PSK\n",
    "\n",
    "def _patched_datagram_received(self, data, addr):\n",
    "    self.parent._dtls_socket.handleMessage(self.parent._connection, data, 0)\n",
    "\n",
    "tinydtls.DTLSSecurityStore = MyDTLSSecurityStore\n",
    "tinydtls.DTLSClientConnection.SingleConnection.datagram_received = \\\n",
    "    _patched_datagram_received\n",
    "    \n",
    "loop = asyncio.get_event_loop()"
   ]
  },
  {
   "cell_type": "code",
   "execution_count": null,
   "metadata": {
    "slideshow": {
     "slide_type": "slide"
    }
   },
   "outputs": [],
   "source": [
    "import json\n",
    "from aiocoap import Message, Context\n",
    "from aiocoap.numbers.codes import Code\n",
    "\n",
    "async def get_response(url, code=Code.GET, payload=None):\n",
    "    protocol = await Context.create_client_context()\n",
    "    kwargs = {}\n",
    "    if payload is not None:\n",
    "        kwargs['payload'] = json.dumps(payload).encode('utf-8')\n",
    "    msg = Message(code=code, uri=f'coaps://192.168.1.14{url}', **kwargs)\n",
    "    response = await protocol.request(msg).response\n",
    "    return response\n",
    "\n",
    "response = loop.run_until_complete(get_response('/.well-known/core'))\n",
    "response.payload"
   ]
  },
  {
   "cell_type": "code",
   "execution_count": null,
   "metadata": {
    "slideshow": {
     "slide_type": "slide"
    }
   },
   "outputs": [],
   "source": [
    "response = loop.run_until_complete(get_response('/15001/65537'))\n",
    "response.payload"
   ]
  },
  {
   "cell_type": "code",
   "execution_count": null,
   "metadata": {
    "slideshow": {
     "slide_type": "fragment"
    }
   },
   "outputs": [],
   "source": [
    "response = loop.run_until_complete(get_response('/15001/65537', code=Code.PUT, payload={\n",
    "    \"3311\":[\n",
    "        {\"5850\":0}\n",
    "    ]\n",
    "}))\n",
    "response.payload"
   ]
  },
  {
   "cell_type": "markdown",
   "metadata": {
    "slideshow": {
     "slide_type": "slide"
    }
   },
   "source": [
    "## IKEA TRÅDFRI 💸"
   ]
  },
  {
   "cell_type": "markdown",
   "metadata": {
    "slideshow": {
     "slide_type": "fragment"
    }
   },
   "source": [
    "- pytradfri: [github.com/ggravlingen/pytradfri](https://github.com/ggravlingen/pytradfri)\n",
    "\n",
    " `pip install pytradfri`"
   ]
  },
  {
   "cell_type": "markdown",
   "metadata": {
    "slideshow": {
     "slide_type": "fragment"
    }
   },
   "source": [
    "- ve elle derlenen bazı bağımlılıklar 😢"
   ]
  },
  {
   "cell_type": "code",
   "execution_count": null,
   "metadata": {
    "slideshow": {
     "slide_type": "slide"
    }
   },
   "outputs": [],
   "source": [
    "from pytradfri import Gateway\n",
    "from pytradfri.api.libcoap_api import api_factory\n",
    "\n",
    "api = api_factory('192.168.1.14', credentials.security_code)\n",
    "\n",
    "gateway = Gateway()\n",
    "\n",
    "devices_command = gateway.get_devices()\n",
    "devices_commands = api(devices_command)\n",
    "devices = api(*devices_commands)\n",
    "\n",
    "light = [dev for dev in devices if dev.has_light_control][1]"
   ]
  },
  {
   "cell_type": "markdown",
   "metadata": {
    "slideshow": {
     "slide_type": "slide"
    }
   },
   "source": [
    "# Teşekkürler\n",
    "\n",
    "🤗"
   ]
  }
 ],
 "metadata": {
  "celltoolbar": "Slideshow",
  "kernelspec": {
   "display_name": "Python 3",
   "language": "python",
   "name": "python3"
  },
  "language_info": {
   "codemirror_mode": {
    "name": "ipython",
    "version": 3
   },
   "file_extension": ".py",
   "mimetype": "text/x-python",
   "name": "python",
   "nbconvert_exporter": "python",
   "pygments_lexer": "ipython3",
   "version": "3.6.2"
  }
 },
 "nbformat": 4,
 "nbformat_minor": 2
}
